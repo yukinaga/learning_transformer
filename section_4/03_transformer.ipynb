{
  "nbformat": 4,
  "nbformat_minor": 0,
  "metadata": {
    "colab": {
      "provenance": [],
      "authorship_tag": "ABX9TyNuIQry3VEkHqkWGZVFq6Op",
      "include_colab_link": true
    },
    "kernelspec": {
      "name": "python3",
      "display_name": "Python 3"
    },
    "language_info": {
      "name": "python"
    }
  },
  "cells": [
    {
      "cell_type": "markdown",
      "metadata": {
        "id": "view-in-github",
        "colab_type": "text"
      },
      "source": [
        "<a href=\"https://colab.research.google.com/github/yukinaga/learning_transformer/blob/main/section_4/03_transformer.ipynb\" target=\"_parent\"><img src=\"https://colab.research.google.com/assets/colab-badge.svg\" alt=\"Open In Colab\"/></a>"
      ]
    },
    {
      "cell_type": "markdown",
      "source": [
        "# Transformerの構築\n",
        "これまでに実装してきた各クラスを使い、「Transformer」を実装します。"
      ],
      "metadata": {
        "id": "D1ewu_ttnVop"
      }
    },
    {
      "cell_type": "markdown",
      "source": [
        "## ScaledDotProductAttentionクラス\n",
        "Section2で構築した「Scaled Dot-Product Attention」のクラスです。\n"
      ],
      "metadata": {
        "id": "6cvwgrTiPxJ5"
      }
    },
    {
      "cell_type": "code",
      "execution_count": null,
      "metadata": {
        "id": "_g_QG2-XPxJ8"
      },
      "outputs": [],
      "source": [
        "import torch\n",
        "import torch.nn as nn\n",
        "\n",
        "class ScaledDotProductAttention(nn.Module):\n",
        "    def __init__(self, d_k):\n",
        "        super(ScaledDotProductAttention, self).__init__()\n",
        "        self.scaling_factor = torch.rsqrt(torch.tensor(d_k, dtype=torch.float))\n",
        "        self.softmax = nn.Softmax(dim=-1)\n",
        "\n",
        "    def forward(self, Q, K, V, mask=None):\n",
        "        \"\"\"\n",
        "        Args:\n",
        "            Q (Tensor): Queries tensor, shape [batch_size, n_head, seq_len, d_k].\n",
        "            K (Tensor): Keys tensor, shape [batch_size, n_head, seq_len, d_k].\n",
        "            V (Tensor): Values tensor, shape [batch_size, n_head, seq_len, d_v].\n",
        "            mask (Tensor, optional): Mask tensor, shape [batch_size, 1, 1, seq_len].\n",
        "\n",
        "        Returns:\n",
        "            Tensor: Output tensor, shape [batch_size, n_head, seq_len, d_v].\n",
        "            Tensor: Attention weights tensor, shape [batch_size, n_head, seq_len, seq_len].\n",
        "        \"\"\"\n",
        "\n",
        "        # Compute scaled dot-product attention scores\n",
        "        attn_scores = torch.matmul(Q, K.transpose(-2, -1)) * self.scaling_factor\n",
        "\n",
        "        if mask is not None:\n",
        "            attn_scores = attn_scores.masked_fill(mask == 0, float('-inf'))\n",
        "\n",
        "        # Compute attention weights\n",
        "        attn_weights = self.softmax(attn_scores)\n",
        "\n",
        "        # Compute weighted sum of values\n",
        "        output = torch.matmul(attn_weights, V)\n",
        "\n",
        "        return output, attn_weights"
      ]
    },
    {
      "cell_type": "markdown",
      "source": [
        "## MultiHeadAttentionクラス\n",
        "Section2で構築した「Multi-Head Attention」のクラスです。"
      ],
      "metadata": {
        "id": "ET9qaXSS2m0F"
      }
    },
    {
      "cell_type": "code",
      "source": [
        "class MultiHeadAttention(nn.Module):\n",
        "    def __init__(self, d_model, n_head, d_k, d_v):\n",
        "        super(MultiHeadAttention, self).__init__()\n",
        "        self.n_head = n_head\n",
        "        self.d_k = d_k\n",
        "        self.d_v = d_v\n",
        "\n",
        "        self.W_Q = nn.Linear(d_model, d_k * n_head, bias=False)\n",
        "        self.W_K = nn.Linear(d_model, d_k * n_head, bias=False)\n",
        "        self.W_V = nn.Linear(d_model, d_v * n_head, bias=False)\n",
        "        self.W_O = nn.Linear(d_v * n_head, d_model, bias=False)\n",
        "\n",
        "        self.attention = ScaledDotProductAttention(d_k)\n",
        "\n",
        "    def forward(self, Q, K, V, mask=None):\n",
        "        batch_size = Q.size(0)\n",
        "\n",
        "        # Linear projections\n",
        "        Q = self.W_Q(Q).view(batch_size, -1, self.n_head, self.d_k).transpose(1, 2)\n",
        "        K = self.W_K(K).view(batch_size, -1, self.n_head, self.d_k).transpose(1, 2)\n",
        "        V = self.W_V(V).view(batch_size, -1, self.n_head, self.d_v).transpose(1, 2)\n",
        "\n",
        "        if mask is not None:\n",
        "            mask = mask.unsqueeze(1)  # [batch_size, 1, seq_len, seq_len]\n",
        "\n",
        "        # Apply Scaled Dot Product Attention\n",
        "        x, attn = self.attention(Q, K, V, mask=mask)  # [batch_size, n_head, seq_len, d_v]\n",
        "\n",
        "        # Concatenate and apply final linear\n",
        "        x = x.transpose(1, 2).contiguous().view(batch_size, -1, self.n_head * self.d_v)  # [batch_size, seq_len, n_head * d_v]\n",
        "        output = self.W_O(x)  # [batch_size, seq_len, d_model]\n",
        "\n",
        "        return output, attn"
      ],
      "metadata": {
        "id": "QgzkyHNX41X_"
      },
      "execution_count": null,
      "outputs": []
    },
    {
      "cell_type": "markdown",
      "source": [
        "## PositionwiseFeedForwardクラス\n",
        "Section3で構築した「Position-wise Feed-Forward Networks」のクラスです。"
      ],
      "metadata": {
        "id": "P8AnHqVJgCE2"
      }
    },
    {
      "cell_type": "code",
      "execution_count": null,
      "metadata": {
        "id": "_6JcaTaygCE3"
      },
      "outputs": [],
      "source": [
        "class PositionwiseFeedForward(nn.Module):\n",
        "    def __init__(self, d_model, d_ff, dropout=0.1):\n",
        "        \"\"\"\n",
        "        Args:\n",
        "            d_model (int): The dimension of the model (also the input and output dimension).\n",
        "            d_ff (int): The dimension of the feed-forward hidden layer.\n",
        "            dropout (float): Dropout probability.\n",
        "        \"\"\"\n",
        "        super(PositionwiseFeedForward, self).__init__()\n",
        "        self.w_1 = nn.Linear(d_model, d_ff)\n",
        "        self.w_2 = nn.Linear(d_ff, d_model)\n",
        "        self.dropout = nn.Dropout(dropout)\n",
        "        self.relu = nn.ReLU()\n",
        "\n",
        "    def forward(self, x):\n",
        "        \"\"\"\n",
        "        Args:\n",
        "            x (Tensor): Input tensor, shape [batch_size, seq_len, d_model]\n",
        "\n",
        "        Returns:\n",
        "            Tensor: Output tensor, shape [batch_size, seq_len, d_model]\n",
        "        \"\"\"\n",
        "        return self.w_2(self.dropout(self.relu(self.w_1(x))))"
      ]
    },
    {
      "cell_type": "markdown",
      "source": [
        "## PositionalEncodingクラス\n",
        "Section3で構築した「Positional Encoding」のクラスです。"
      ],
      "metadata": {
        "id": "Y8X1KDm5MaP1"
      }
    },
    {
      "cell_type": "code",
      "execution_count": null,
      "metadata": {
        "id": "KEtd-3WwMaP3"
      },
      "outputs": [],
      "source": [
        "class PositionalEncoding(nn.Module):\n",
        "    def __init__(self, d_model, max_len=5000):\n",
        "        super(PositionalEncoding, self).__init__()\n",
        "        self.encoding = torch.zeros(max_len, d_model)\n",
        "        position = torch.arange(0, max_len, dtype=torch.float).unsqueeze(1)\n",
        "        div_term = torch.exp(torch.arange(0, d_model, 2).float() * -(torch.log(torch.tensor(10000.0)) / d_model))\n",
        "        self.encoding[:, 0::2] = torch.sin(position * div_term)\n",
        "        self.encoding[:, 1::2] = torch.cos(position * div_term)\n",
        "        self.encoding = self.encoding.unsqueeze(0)\n",
        "\n",
        "    def forward(self, x):\n",
        "        \"\"\"\n",
        "        Args:\n",
        "            x (Tensor): Input tensor, shape [batch_size, seq_len, d_model]\n",
        "\n",
        "        Returns:\n",
        "            Tensor: Output tensor, shape [batch_size, seq_len, d_model]\n",
        "        \"\"\"\n",
        "        # Add positional encoding to the input tensor\n",
        "        x = x + self.encoding[:, :x.size(1), :]\n",
        "        return x"
      ]
    },
    {
      "cell_type": "markdown",
      "source": [
        "## EncoderLayerクラス\n",
        "Section4で構築したEncoderLayerクラスです。"
      ],
      "metadata": {
        "id": "hs-EOPaKnf9A"
      }
    },
    {
      "cell_type": "code",
      "execution_count": null,
      "metadata": {
        "id": "W2vttcSpLchW"
      },
      "outputs": [],
      "source": [
        "class EncoderLayer(nn.Module):\n",
        "    def __init__(self, d_model, n_head, d_k, d_v, d_ff, dropout=0.1):\n",
        "        super(EncoderLayer, self).__init__()\n",
        "        self.self_attn = MultiHeadAttention(d_model, n_head, d_k, d_v)\n",
        "        self.feed_forward = PositionwiseFeedForward(d_model, d_ff, dropout)\n",
        "        self.layer_norm1 = nn.LayerNorm(d_model)\n",
        "        self.layer_norm2 = nn.LayerNorm(d_model)\n",
        "        self.dropout = nn.Dropout(dropout)\n",
        "\n",
        "    def forward(self, x, mask):\n",
        "        # Self-attention sublayer\n",
        "        attn_output, _ = self.self_attn(x, x, x, mask)\n",
        "        x = x + self.dropout(attn_output)\n",
        "        x = self.layer_norm1(x)\n",
        "\n",
        "        # Feed-forward sublayer\n",
        "        ff_output = self.feed_forward(x)\n",
        "        x = x + self.dropout(ff_output)\n",
        "        x = self.layer_norm2(x)\n",
        "\n",
        "        return x"
      ]
    },
    {
      "cell_type": "markdown",
      "source": [
        "## Encoderクラス\n",
        "Section4で構築した「Encoder」のクラスです。"
      ],
      "metadata": {
        "id": "i8IP7alygB5P"
      }
    },
    {
      "cell_type": "code",
      "execution_count": null,
      "metadata": {
        "id": "93FBOx15gB5R"
      },
      "outputs": [],
      "source": [
        "class Encoder(nn.Module):\n",
        "    def __init__(self, d_model, n_head, d_k, d_v, d_ff, num_layers, dropout=0.1):\n",
        "        super(Encoder, self).__init__()\n",
        "        self.layers = nn.ModuleList([EncoderLayer(d_model, n_head, d_k, d_v, d_ff, dropout) for _ in range(num_layers)])\n",
        "        self.layer_norm = nn.LayerNorm(d_model)\n",
        "\n",
        "    def forward(self, x, mask):\n",
        "        for layer in self.layers:\n",
        "            x = layer(x, mask)\n",
        "        x = self.layer_norm(x)\n",
        "        return x"
      ]
    },
    {
      "cell_type": "markdown",
      "source": [
        "## DecoderLayerクラス\n",
        "Section4で構築したDecoderLayerクラスです。"
      ],
      "metadata": {
        "id": "ggq_2Si9NpYK"
      }
    },
    {
      "cell_type": "code",
      "execution_count": null,
      "metadata": {
        "id": "5kBmoNecNpYL"
      },
      "outputs": [],
      "source": [
        "class DecoderLayer(nn.Module):\n",
        "    def __init__(self, d_model, n_head, d_k, d_v, d_ff, dropout=0.1):\n",
        "        super(DecoderLayer, self).__init__()\n",
        "        self.self_attn = MultiHeadAttention(d_model, n_head, d_k, d_v)\n",
        "        self.enc_dec_attn = MultiHeadAttention(d_model, n_head, d_k, d_v)\n",
        "        self.feed_forward = PositionwiseFeedForward(d_model, d_ff, dropout)\n",
        "        self.layer_norm1 = nn.LayerNorm(d_model)\n",
        "        self.layer_norm2 = nn.LayerNorm(d_model)\n",
        "        self.layer_norm3 = nn.LayerNorm(d_model)\n",
        "        self.dropout = nn.Dropout(dropout)\n",
        "\n",
        "    def forward(self, x, enc_output, src_mask, tgt_mask):\n",
        "        # Self-attention sublayer with target mask\n",
        "        self_attn_output, _ = self.self_attn(x, x, x, tgt_mask)\n",
        "        x = x + self.dropout(self_attn_output)\n",
        "        x = self.layer_norm1(x)\n",
        "\n",
        "        # Encoder-decoder attention sublayer with source mask\n",
        "        enc_dec_attn_output, _ = self.enc_dec_attn(x, enc_output, enc_output, src_mask)\n",
        "        x = x + self.dropout(enc_dec_attn_output)\n",
        "        x = self.layer_norm2(x)\n",
        "\n",
        "        # Feed-forward sublayer\n",
        "        ff_output = self.feed_forward(x)\n",
        "        x = x + self.dropout(ff_output)\n",
        "        x = self.layer_norm3(x)\n",
        "\n",
        "        return x"
      ]
    },
    {
      "cell_type": "markdown",
      "source": [
        "## Decoderクラス\n",
        "Section4で構築した「Decoder」のクラスです。"
      ],
      "metadata": {
        "id": "57r3wOOnNpYL"
      }
    },
    {
      "cell_type": "code",
      "execution_count": null,
      "metadata": {
        "id": "Mk8klJbdNpYM"
      },
      "outputs": [],
      "source": [
        "class Decoder(nn.Module):\n",
        "    def __init__(self, d_model, n_head, d_k, d_v, d_ff, num_layers, dropout=0.1):\n",
        "        super(Decoder, self).__init__()\n",
        "        self.layers = nn.ModuleList([DecoderLayer(d_model, n_head, d_k, d_v, d_ff, dropout) for _ in range(num_layers)])\n",
        "        self.layer_norm = nn.LayerNorm(d_model)\n",
        "\n",
        "    def forward(self, x, enc_output, src_mask, tgt_mask):\n",
        "        for layer in self.layers:\n",
        "            x = layer(x, enc_output, src_mask, tgt_mask)\n",
        "        x = self.layer_norm(x)\n",
        "        return x"
      ]
    },
    {
      "cell_type": "markdown",
      "source": [
        "## Transformerクラス\n",
        "論文「Attention Is All You Need」に基づき、TransformerをTransformerクラスにまとめます。    \n",
        "https://arxiv.org/abs/1706.03762"
      ],
      "metadata": {
        "id": "qZ1A2OkSN6oV"
      }
    },
    {
      "cell_type": "code",
      "execution_count": null,
      "metadata": {
        "id": "Lu5ydP0ON6oV"
      },
      "outputs": [],
      "source": [
        "class Transformer(nn.Module):\n",
        "    def __init__(self, d_model, n_head, d_k, d_v, d_ff, num_encoder_layers, num_decoder_layers, src_vocab_size, tgt_vocab_size, max_src_seq_len, max_tgt_seq_len, dropout=0.1):\n",
        "        super(Transformer, self).__init__()\n",
        "\n",
        "        self.encoder_embedding = nn.Embedding(src_vocab_size, d_model)\n",
        "        self.pos_encoder = PositionalEncoding(d_model, max_src_seq_len)\n",
        "        self.encoder = Encoder(d_model, n_head, d_k, d_v, d_ff, num_encoder_layers, dropout)\n",
        "\n",
        "        self.decoder_embedding = nn.Embedding(tgt_vocab_size, d_model)\n",
        "        self.pos_decoder = PositionalEncoding(d_model, max_tgt_seq_len)\n",
        "        self.decoder = Decoder(d_model, n_head, d_k, d_v, d_ff, num_decoder_layers, dropout)\n",
        "\n",
        "        self.output_linear = nn.Linear(d_model, tgt_vocab_size)\n",
        "        self.softmax = nn.Softmax(dim=-1)\n",
        "\n",
        "        self.src_vocab_size = src_vocab_size\n",
        "        self.tgt_vocab_size = tgt_vocab_size\n",
        "        self.d_model = d_model\n",
        "\n",
        "    def forward(self, src, tgt, src_mask, tgt_mask):\n",
        "        src_emb = self.encoder_embedding(src) * torch.sqrt(torch.tensor(self.d_model, dtype=torch.float))\n",
        "        src_emb = self.pos_encoder(src_emb)\n",
        "        enc_output = self.encoder(src_emb, src_mask)\n",
        "\n",
        "        tgt_emb = self.decoder_embedding(tgt) * torch.sqrt(torch.tensor(self.d_model, dtype=torch.float))\n",
        "        tgt_emb = self.pos_decoder(tgt_emb)\n",
        "        dec_output = self.decoder(tgt_emb, enc_output, src_mask, tgt_mask)\n",
        "\n",
        "        output = self.output_linear(dec_output)\n",
        "        return self.softmax(output)"
      ]
    },
    {
      "cell_type": "markdown",
      "source": [
        "## Transformerクラスの使用\n",
        "各設定を行った上で、Transformerクラスを使用します。  \n"
      ],
      "metadata": {
        "id": "XeGiQCcIoZ6V"
      }
    },
    {
      "cell_type": "code",
      "source": [
        "# Transformer モデルのパラメータ\n",
        "d_model = 512\n",
        "n_head = 8\n",
        "d_k = d_v = 64\n",
        "d_ff = 2048\n",
        "num_encoder_layers = 6\n",
        "num_decoder_layers = 6\n",
        "src_vocab_size = 10000\n",
        "tgt_vocab_size = 10000\n",
        "max_src_seq_len = 100\n",
        "max_tgt_seq_len = 100\n",
        "dropout = 0.1\n",
        "\n",
        "# Transformer モデルのインスタンス化\n",
        "transformer_model = Transformer(\n",
        "    d_model=d_model,\n",
        "    n_head=n_head,\n",
        "    d_k=d_k,\n",
        "    d_v=d_v,\n",
        "    d_ff=d_ff,\n",
        "    num_encoder_layers=num_encoder_layers,\n",
        "    num_decoder_layers=num_decoder_layers,\n",
        "    src_vocab_size=src_vocab_size,\n",
        "    tgt_vocab_size=tgt_vocab_size,\n",
        "    max_src_seq_len=max_src_seq_len,\n",
        "    max_tgt_seq_len=max_tgt_seq_len,\n",
        "    dropout=dropout\n",
        ")\n",
        "\n",
        "# モデルを評価モードに設定（ドロップアウトなどが無効になる）\n",
        "transformer_model.eval()\n",
        "\n",
        "# ランダムなデータの生成\n",
        "batch_size = 32\n",
        "src_seq_len = max_src_seq_len\n",
        "tgt_seq_len = max_tgt_seq_len\n",
        "\n",
        "# ソースとターゲットのシーケンスをランダムに生成\n",
        "src = torch.randint(0, src_vocab_size, (batch_size, src_seq_len))\n",
        "tgt = torch.randint(0, tgt_vocab_size, (batch_size, tgt_seq_len))\n",
        "\n",
        "# ソースとターゲットのマスクを生成（ここでは実際にはマスクしていない）\n",
        "src_mask = torch.ones(batch_size, src_seq_len, src_seq_len)\n",
        "tgt_mask = torch.ones(batch_size, tgt_seq_len, tgt_seq_len)\n",
        "\n",
        "# モデルを通じてデータを伝播させる\n",
        "with torch.no_grad():  # 勾配計算を行わない\n",
        "    output = transformer_model(src, tgt, src_mask, tgt_mask)\n",
        "\n",
        "# 出力の確認\n",
        "print(output.size())  # 期待される出力サイズ: [batch_size, tgt_seq_len, tgt_vocab_size]\n",
        "print(output)"
      ],
      "metadata": {
        "id": "bQd7Ekwif4Ty"
      },
      "execution_count": null,
      "outputs": []
    }
  ]
}