{
  "nbformat": 4,
  "nbformat_minor": 0,
  "metadata": {
    "colab": {
      "provenance": [],
      "gpuType": "T4",
      "authorship_tag": "ABX9TyPHPWrAzxEVvt+Qf3bhJmkR",
      "include_colab_link": true
    },
    "kernelspec": {
      "name": "python3",
      "display_name": "Python 3"
    },
    "language_info": {
      "name": "python"
    },
    "accelerator": "GPU"
  },
  "cells": [
    {
      "cell_type": "markdown",
      "metadata": {
        "id": "view-in-github",
        "colab_type": "text"
      },
      "source": [
        "<a href=\"https://colab.research.google.com/github/yukinaga/learning_transformer/blob/main/section_4/04_training_transformer.ipynb\" target=\"_parent\"><img src=\"https://colab.research.google.com/assets/colab-badge.svg\" alt=\"Open In Colab\"/></a>"
      ]
    },
    {
      "cell_type": "markdown",
      "source": [
        "# Transformerの訓練\n",
        "Transformerクラスを使い、Transformerのモデルを訓練します。"
      ],
      "metadata": {
        "id": "D1ewu_ttnVop"
      }
    },
    {
      "cell_type": "markdown",
      "source": [
        "## ScaledDotProductAttentionクラス\n",
        "Section2で構築した「Scaled Dot-Product Attention」のクラスです。\n"
      ],
      "metadata": {
        "id": "6cvwgrTiPxJ5"
      }
    },
    {
      "cell_type": "code",
      "execution_count": null,
      "metadata": {
        "id": "_g_QG2-XPxJ8"
      },
      "outputs": [],
      "source": [
        "import torch\n",
        "import torch.nn as nn\n",
        "\n",
        "class ScaledDotProductAttention(nn.Module):\n",
        "    def __init__(self, d_k):\n",
        "        super(ScaledDotProductAttention, self).__init__()\n",
        "        self.scaling_factor = torch.rsqrt(torch.tensor(d_k, dtype=torch.float))\n",
        "        self.softmax = nn.Softmax(dim=-1)\n",
        "\n",
        "    def forward(self, Q, K, V, mask=None):\n",
        "        \"\"\"\n",
        "        Args:\n",
        "            Q (Tensor): Queries tensor, shape [batch_size, n_head, seq_len, d_k].\n",
        "            K (Tensor): Keys tensor, shape [batch_size, n_head, seq_len, d_k].\n",
        "            V (Tensor): Values tensor, shape [batch_size, n_head, seq_len, d_v].\n",
        "            mask (Tensor, optional): Mask tensor, shape [batch_size, 1, 1, seq_len].\n",
        "\n",
        "        Returns:\n",
        "            Tensor: Output tensor, shape [batch_size, n_head, seq_len, d_v].\n",
        "            Tensor: Attention weights tensor, shape [batch_size, n_head, seq_len, seq_len].\n",
        "        \"\"\"\n",
        "\n",
        "        # Compute scaled dot-product attention scores\n",
        "        attn_scores = torch.matmul(Q, K.transpose(-2, -1)) * self.scaling_factor\n",
        "\n",
        "        if mask is not None:\n",
        "            attn_scores = attn_scores.masked_fill(mask == 0, float('-inf'))\n",
        "\n",
        "        # Compute attention weights\n",
        "        attn_weights = self.softmax(attn_scores)\n",
        "\n",
        "        # Compute weighted sum of values\n",
        "        output = torch.matmul(attn_weights, V)\n",
        "\n",
        "        return output, attn_weights"
      ]
    },
    {
      "cell_type": "markdown",
      "source": [
        "## MultiHeadAttentionクラス\n",
        "Section2で構築した「Multi-Head Attention」のクラスです。"
      ],
      "metadata": {
        "id": "ET9qaXSS2m0F"
      }
    },
    {
      "cell_type": "code",
      "source": [
        "class MultiHeadAttention(nn.Module):\n",
        "    def __init__(self, d_model, n_head, d_k, d_v):\n",
        "        super(MultiHeadAttention, self).__init__()\n",
        "        self.n_head = n_head\n",
        "        self.d_k = d_k\n",
        "        self.d_v = d_v\n",
        "\n",
        "        self.W_Q = nn.Linear(d_model, d_k * n_head, bias=False)\n",
        "        self.W_K = nn.Linear(d_model, d_k * n_head, bias=False)\n",
        "        self.W_V = nn.Linear(d_model, d_v * n_head, bias=False)\n",
        "        self.W_O = nn.Linear(d_v * n_head, d_model, bias=False)\n",
        "\n",
        "        self.attention = ScaledDotProductAttention(d_k)\n",
        "\n",
        "    def forward(self, Q, K, V, mask=None):\n",
        "        batch_size = Q.size(0)\n",
        "\n",
        "        # Linear projections\n",
        "        Q = self.W_Q(Q).view(batch_size, -1, self.n_head, self.d_k).transpose(1, 2)\n",
        "        K = self.W_K(K).view(batch_size, -1, self.n_head, self.d_k).transpose(1, 2)\n",
        "        V = self.W_V(V).view(batch_size, -1, self.n_head, self.d_v).transpose(1, 2)\n",
        "\n",
        "        if mask is not None:\n",
        "            mask = mask.unsqueeze(1)  # [batch_size, 1, seq_len, seq_len]\n",
        "\n",
        "        # Apply Scaled Dot Product Attention\n",
        "        x, attn = self.attention(Q, K, V, mask=mask)  # [batch_size, n_head, seq_len, d_v]\n",
        "\n",
        "        # Concatenate and apply final linear\n",
        "        x = x.transpose(1, 2).contiguous().view(batch_size, -1, self.n_head * self.d_v)  # [batch_size, seq_len, n_head * d_v]\n",
        "        output = self.W_O(x)  # [batch_size, seq_len, d_model]\n",
        "\n",
        "        return output, attn"
      ],
      "metadata": {
        "id": "QgzkyHNX41X_"
      },
      "execution_count": null,
      "outputs": []
    },
    {
      "cell_type": "markdown",
      "source": [
        "## PositionwiseFeedForwardクラス\n",
        "Section3で構築した「Position-wise Feed-Forward Networks」のクラスです。"
      ],
      "metadata": {
        "id": "P8AnHqVJgCE2"
      }
    },
    {
      "cell_type": "code",
      "execution_count": null,
      "metadata": {
        "id": "_6JcaTaygCE3"
      },
      "outputs": [],
      "source": [
        "class PositionwiseFeedForward(nn.Module):\n",
        "    def __init__(self, d_model, d_ff, dropout=0.1):\n",
        "        \"\"\"\n",
        "        Args:\n",
        "            d_model (int): The dimension of the model (also the input and output dimension).\n",
        "            d_ff (int): The dimension of the feed-forward hidden layer.\n",
        "            dropout (float): Dropout probability.\n",
        "        \"\"\"\n",
        "        super(PositionwiseFeedForward, self).__init__()\n",
        "        self.w_1 = nn.Linear(d_model, d_ff)\n",
        "        self.w_2 = nn.Linear(d_ff, d_model)\n",
        "        self.dropout = nn.Dropout(dropout)\n",
        "        self.relu = nn.ReLU()\n",
        "\n",
        "    def forward(self, x):\n",
        "        \"\"\"\n",
        "        Args:\n",
        "            x (Tensor): Input tensor, shape [batch_size, seq_len, d_model]\n",
        "\n",
        "        Returns:\n",
        "            Tensor: Output tensor, shape [batch_size, seq_len, d_model]\n",
        "        \"\"\"\n",
        "        return self.w_2(self.dropout(self.relu(self.w_1(x))))"
      ]
    },
    {
      "cell_type": "markdown",
      "source": [
        "## PositionalEncodingクラス\n",
        "Section3で構築した「Positional Encoding」のクラスです。"
      ],
      "metadata": {
        "id": "Y8X1KDm5MaP1"
      }
    },
    {
      "cell_type": "code",
      "execution_count": null,
      "metadata": {
        "id": "KEtd-3WwMaP3"
      },
      "outputs": [],
      "source": [
        "class PositionalEncoding(nn.Module):\n",
        "    def __init__(self, d_model, max_len=5000):\n",
        "        super(PositionalEncoding, self).__init__()\n",
        "        self.encoding = torch.zeros(max_len, d_model)\n",
        "        position = torch.arange(0, max_len, dtype=torch.float).unsqueeze(1)\n",
        "        div_term = torch.exp(torch.arange(0, d_model, 2).float() * -(torch.log(torch.tensor(10000.0)) / d_model))\n",
        "        self.encoding[:, 0::2] = torch.sin(position * div_term)\n",
        "        self.encoding[:, 1::2] = torch.cos(position * div_term)\n",
        "        self.encoding = self.encoding.unsqueeze(0)\n",
        "\n",
        "    def forward(self, x):\n",
        "        \"\"\"\n",
        "        Args:\n",
        "            x (Tensor): Input tensor, shape [batch_size, seq_len, d_model]\n",
        "\n",
        "        Returns:\n",
        "            Tensor: Output tensor, shape [batch_size, seq_len, d_model]\n",
        "        \"\"\"\n",
        "        # Add positional encoding to the input tensor\n",
        "        x = x + self.encoding[:, :x.size(1), :]\n",
        "        return x"
      ]
    },
    {
      "cell_type": "markdown",
      "source": [
        "## EncoderLayerクラス\n",
        "Section4で構築したEncoderLayerクラスです。"
      ],
      "metadata": {
        "id": "hs-EOPaKnf9A"
      }
    },
    {
      "cell_type": "code",
      "execution_count": null,
      "metadata": {
        "id": "W2vttcSpLchW"
      },
      "outputs": [],
      "source": [
        "class EncoderLayer(nn.Module):\n",
        "    def __init__(self, d_model, n_head, d_k, d_v, d_ff, dropout=0.1):\n",
        "        super(EncoderLayer, self).__init__()\n",
        "        self.self_attn = MultiHeadAttention(d_model, n_head, d_k, d_v)\n",
        "        self.feed_forward = PositionwiseFeedForward(d_model, d_ff, dropout)\n",
        "        self.layer_norm1 = nn.LayerNorm(d_model)\n",
        "        self.layer_norm2 = nn.LayerNorm(d_model)\n",
        "        self.dropout = nn.Dropout(dropout)\n",
        "\n",
        "    def forward(self, x, mask):\n",
        "        # Self-attention sublayer\n",
        "        attn_output, _ = self.self_attn(x, x, x, mask)\n",
        "        x = x + self.dropout(attn_output)\n",
        "        x = self.layer_norm1(x)\n",
        "\n",
        "        # Feed-forward sublayer\n",
        "        ff_output = self.feed_forward(x)\n",
        "        x = x + self.dropout(ff_output)\n",
        "        x = self.layer_norm2(x)\n",
        "\n",
        "        return x"
      ]
    },
    {
      "cell_type": "markdown",
      "source": [
        "## Encoderクラス\n",
        "Section4で構築した「Encoder」のクラスです。"
      ],
      "metadata": {
        "id": "i8IP7alygB5P"
      }
    },
    {
      "cell_type": "code",
      "execution_count": null,
      "metadata": {
        "id": "93FBOx15gB5R"
      },
      "outputs": [],
      "source": [
        "class Encoder(nn.Module):\n",
        "    def __init__(self, d_model, n_head, d_k, d_v, d_ff, num_layers, dropout=0.1):\n",
        "        super(Encoder, self).__init__()\n",
        "        self.layers = nn.ModuleList([EncoderLayer(d_model, n_head, d_k, d_v, d_ff, dropout) for _ in range(num_layers)])\n",
        "        self.layer_norm = nn.LayerNorm(d_model)\n",
        "\n",
        "    def forward(self, x, mask):\n",
        "        for layer in self.layers:\n",
        "            x = layer(x, mask)\n",
        "        x = self.layer_norm(x)\n",
        "        return x"
      ]
    },
    {
      "cell_type": "markdown",
      "source": [
        "## DecoderLayerクラス\n",
        "Section4で構築したDecoderLayerクラスです。"
      ],
      "metadata": {
        "id": "ggq_2Si9NpYK"
      }
    },
    {
      "cell_type": "code",
      "execution_count": null,
      "metadata": {
        "id": "5kBmoNecNpYL"
      },
      "outputs": [],
      "source": [
        "class DecoderLayer(nn.Module):\n",
        "    def __init__(self, d_model, n_head, d_k, d_v, d_ff, dropout=0.1):\n",
        "        super(DecoderLayer, self).__init__()\n",
        "        self.self_attn = MultiHeadAttention(d_model, n_head, d_k, d_v)\n",
        "        self.enc_dec_attn = MultiHeadAttention(d_model, n_head, d_k, d_v)\n",
        "        self.feed_forward = PositionwiseFeedForward(d_model, d_ff, dropout)\n",
        "        self.layer_norm1 = nn.LayerNorm(d_model)\n",
        "        self.layer_norm2 = nn.LayerNorm(d_model)\n",
        "        self.layer_norm3 = nn.LayerNorm(d_model)\n",
        "        self.dropout = nn.Dropout(dropout)\n",
        "\n",
        "    def forward(self, x, enc_output, src_mask, tgt_mask):\n",
        "        # Self-attention sublayer with target mask\n",
        "        self_attn_output, _ = self.self_attn(x, x, x, tgt_mask)\n",
        "        x = x + self.dropout(self_attn_output)\n",
        "        x = self.layer_norm1(x)\n",
        "\n",
        "        # Encoder-decoder attention sublayer with source mask\n",
        "        enc_dec_attn_output, _ = self.enc_dec_attn(x, enc_output, enc_output, src_mask)\n",
        "        x = x + self.dropout(enc_dec_attn_output)\n",
        "        x = self.layer_norm2(x)\n",
        "\n",
        "        # Feed-forward sublayer\n",
        "        ff_output = self.feed_forward(x)\n",
        "        x = x + self.dropout(ff_output)\n",
        "        x = self.layer_norm3(x)\n",
        "\n",
        "        return x"
      ]
    },
    {
      "cell_type": "markdown",
      "source": [
        "## Decoderクラス\n",
        "Section4で構築した「Decoder」のクラスです。"
      ],
      "metadata": {
        "id": "57r3wOOnNpYL"
      }
    },
    {
      "cell_type": "code",
      "execution_count": null,
      "metadata": {
        "id": "Mk8klJbdNpYM"
      },
      "outputs": [],
      "source": [
        "class Decoder(nn.Module):\n",
        "    def __init__(self, d_model, n_head, d_k, d_v, d_ff, num_layers, dropout=0.1):\n",
        "        super(Decoder, self).__init__()\n",
        "        self.layers = nn.ModuleList([DecoderLayer(d_model, n_head, d_k, d_v, d_ff, dropout) for _ in range(num_layers)])\n",
        "        self.layer_norm = nn.LayerNorm(d_model)\n",
        "\n",
        "    def forward(self, x, enc_output, src_mask, tgt_mask):\n",
        "        for layer in self.layers:\n",
        "            x = layer(x, enc_output, src_mask, tgt_mask)\n",
        "        x = self.layer_norm(x)\n",
        "        return x"
      ]
    },
    {
      "cell_type": "markdown",
      "source": [
        "## Transformerクラス\n",
        "Section4で構築した「Transformer」のクラスです。"
      ],
      "metadata": {
        "id": "qZ1A2OkSN6oV"
      }
    },
    {
      "cell_type": "code",
      "execution_count": null,
      "metadata": {
        "id": "Lu5ydP0ON6oV"
      },
      "outputs": [],
      "source": [
        "class Transformer(nn.Module):\n",
        "    def __init__(self, d_model, n_head, d_k, d_v, d_ff, num_encoder_layers, num_decoder_layers, src_vocab_size, tgt_vocab_size, max_src_seq_len, max_tgt_seq_len, dropout=0.1):\n",
        "        super(Transformer, self).__init__()\n",
        "\n",
        "        self.encoder_embedding = nn.Embedding(src_vocab_size, d_model)\n",
        "        self.pos_encoder = PositionalEncoding(d_model, max_src_seq_len)\n",
        "        self.encoder = Encoder(d_model, n_head, d_k, d_v, d_ff, num_encoder_layers, dropout)\n",
        "\n",
        "        self.decoder_embedding = nn.Embedding(tgt_vocab_size, d_model)\n",
        "        self.pos_decoder = PositionalEncoding(d_model, max_tgt_seq_len)\n",
        "        self.decoder = Decoder(d_model, n_head, d_k, d_v, d_ff, num_decoder_layers, dropout)\n",
        "\n",
        "        self.output_linear = nn.Linear(d_model, tgt_vocab_size)\n",
        "        self.softmax = nn.Softmax(dim=-1)\n",
        "\n",
        "        self.src_vocab_size = src_vocab_size\n",
        "        self.tgt_vocab_size = tgt_vocab_size\n",
        "        self.d_model = d_model\n",
        "\n",
        "    def forward(self, src, tgt, src_mask, tgt_mask):\n",
        "        src_emb = self.encoder_embedding(src) * torch.sqrt(torch.tensor(self.d_model, dtype=torch.float))\n",
        "        src_emb = self.pos_encoder(src_emb)\n",
        "        enc_output = self.encoder(src_emb, src_mask)\n",
        "\n",
        "        tgt_emb = self.decoder_embedding(tgt) * torch.sqrt(torch.tensor(self.d_model, dtype=torch.float))\n",
        "        tgt_emb = self.pos_decoder(tgt_emb)\n",
        "        dec_output = self.decoder(tgt_emb, enc_output, src_mask, tgt_mask)\n",
        "\n",
        "        output = self.output_linear(dec_output)\n",
        "        return self.softmax(output)"
      ]
    },
    {
      "cell_type": "markdown",
      "source": [
        "## Transformerの訓練\n",
        "今回は、簡単な翻訳データセットを作成し、そのデータセットを使用してモデルを訓練します。  \n",
        "使用する翻訳データセットは非常に小さく、実際の翻訳タスクを学習するには不十分ですが、デモンストレーションのためには十分です。\n"
      ],
      "metadata": {
        "id": "XeGiQCcIoZ6V"
      }
    },
    {
      "cell_type": "code",
      "source": [
        "import torch.optim as optim\n",
        "from torch.utils.data import Dataset, DataLoader\n",
        "\n",
        "# 簡単な翻訳データセットを作成する\n",
        "class TranslationDataset(Dataset):\n",
        "    def __init__(self, src_sentences, tgt_sentences, src_vocab, tgt_vocab):\n",
        "        self.src_sentences = src_sentences\n",
        "        self.tgt_sentences = tgt_sentences\n",
        "        self.src_vocab = src_vocab\n",
        "        self.tgt_vocab = tgt_vocab\n",
        "\n",
        "    def __len__(self):\n",
        "        return len(self.src_sentences)\n",
        "\n",
        "    def __getitem__(self, idx):\n",
        "        src_sentence = self.src_sentences[idx]\n",
        "        tgt_sentence = self.tgt_sentences[idx]\n",
        "        src_indices = [self.src_vocab[token] for token in src_sentence.split()]\n",
        "        tgt_indices = [self.tgt_vocab[token] for token in tgt_sentence.split()]\n",
        "        return torch.tensor(src_indices), torch.tensor(tgt_indices)\n",
        "\n",
        "# 簡単な語彙とデータセットを作成\n",
        "src_vocab = {'hello': 0, 'world': 1, 'EOS': 2}\n",
        "tgt_vocab = {'こんにちは': 0, '世界': 1, 'EOS': 2}\n",
        "src_sentences = ['hello world EOS', 'world hello EOS']\n",
        "tgt_sentences = ['こんにちは 世界 EOS', '世界 こんにちは EOS']\n",
        "\n",
        "# データセットとデータローダーの作成\n",
        "dataset = TranslationDataset(src_sentences, tgt_sentences, src_vocab, tgt_vocab)\n",
        "dataloader = DataLoader(dataset, batch_size=2, shuffle=True)\n",
        "\n",
        "# モデルのインスタンス化\n",
        "transformer = Transformer(\n",
        "    d_model=512, n_head=8, d_k=64, d_v=64, d_ff=2048,\n",
        "    num_encoder_layers=3, num_decoder_layers=3,\n",
        "    src_vocab_size=len(src_vocab), tgt_vocab_size=len(tgt_vocab),\n",
        "    max_src_seq_len=10, max_tgt_seq_len=10, dropout=0.1\n",
        ")\n",
        "\n",
        "# 損失関数と最適化手法\n",
        "criterion = nn.CrossEntropyLoss()\n",
        "optimizer = optim.Adam(transformer.parameters(), lr=0.001)\n",
        "\n",
        "# 訓練ループ\n",
        "for epoch in range(10):  # 実際にはもっと多くのエポックが必要です\n",
        "    transformer.train()\n",
        "    total_loss = 0\n",
        "    for src, tgt in dataloader:\n",
        "        # モデルの出力を計算\n",
        "        output = transformer(src, tgt[:, :-1], None, None)\n",
        "\n",
        "        # 損失を計算\n",
        "        loss = criterion(output.view(-1, output.size(-1)), tgt[:, 1:].reshape(-1))\n",
        "\n",
        "        # 勾配を初期化\n",
        "        optimizer.zero_grad()\n",
        "\n",
        "        # バックプロパゲーション\n",
        "        loss.backward()\n",
        "\n",
        "        # パラメータの更新\n",
        "        optimizer.step()\n",
        "\n",
        "        total_loss += loss.item()\n",
        "\n",
        "    print(f'Epoch {epoch+1}, Loss: {total_loss / len(dataloader)}')"
      ],
      "metadata": {
        "id": "bQd7Ekwif4Ty"
      },
      "execution_count": null,
      "outputs": []
    },
    {
      "cell_type": "markdown",
      "source": [
        "このコードは、Google Colaboratoryの無料環境で動作するように設計されています。  \n",
        "ただし、実用的な翻訳モデルを訓練するためには、より大きなデータセット、適切な前処理、トークン化、およびマスキングが必要です。  \n",
        "また、その際には遥かに多くのエポックと計算リソースが必要です。  "
      ],
      "metadata": {
        "id": "8Ptzi-2mGY7h"
      }
    }
  ]
}