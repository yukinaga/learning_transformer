{
  "nbformat": 4,
  "nbformat_minor": 0,
  "metadata": {
    "colab": {
      "provenance": [],
      "authorship_tag": "ABX9TyOfLFu77enXmC0tD+qwWTAY",
      "include_colab_link": true
    },
    "kernelspec": {
      "name": "python3",
      "display_name": "Python 3"
    },
    "language_info": {
      "name": "python"
    }
  },
  "cells": [
    {
      "cell_type": "markdown",
      "metadata": {
        "id": "view-in-github",
        "colab_type": "text"
      },
      "source": [
        "<a href=\"https://colab.research.google.com/github/yukinaga/learning_transformer/blob/main/section_4/01_encoder.ipynb\" target=\"_parent\"><img src=\"https://colab.research.google.com/assets/colab-badge.svg\" alt=\"Open In Colab\"/></a>"
      ]
    },
    {
      "cell_type": "markdown",
      "source": [
        "# Encoderの構築\n",
        "これまでに実装してきた各クラスを使い、「Encoder」を実装します。"
      ],
      "metadata": {
        "id": "D1ewu_ttnVop"
      }
    },
    {
      "cell_type": "markdown",
      "source": [
        "## ScaledDotProductAttentionクラス\n",
        "Section2で構築した「Scaled Dot-Product Attention」のクラスです。\n"
      ],
      "metadata": {
        "id": "6cvwgrTiPxJ5"
      }
    },
    {
      "cell_type": "code",
      "execution_count": null,
      "metadata": {
        "id": "_g_QG2-XPxJ8"
      },
      "outputs": [],
      "source": [
        "import torch\n",
        "import torch.nn as nn\n",
        "\n",
        "class ScaledDotProductAttention(nn.Module):\n",
        "    def __init__(self, d_k):\n",
        "        super(ScaledDotProductAttention, self).__init__()\n",
        "        self.scaling_factor = torch.rsqrt(torch.tensor(d_k, dtype=torch.float))\n",
        "        self.softmax = nn.Softmax(dim=-1)\n",
        "\n",
        "    def forward(self, Q, K, V, mask=None):\n",
        "        \"\"\"\n",
        "        Args:\n",
        "            Q (Tensor): Queries tensor, shape [batch_size, n_head, seq_len, d_k].\n",
        "            K (Tensor): Keys tensor, shape [batch_size, n_head, seq_len, d_k].\n",
        "            V (Tensor): Values tensor, shape [batch_size, n_head, seq_len, d_v].\n",
        "            mask (Tensor, optional): Mask tensor, shape [batch_size, 1, 1, seq_len].\n",
        "\n",
        "        Returns:\n",
        "            Tensor: Output tensor, shape [batch_size, n_head, seq_len, d_v].\n",
        "            Tensor: Attention weights tensor, shape [batch_size, n_head, seq_len, seq_len].\n",
        "        \"\"\"\n",
        "\n",
        "        # Compute scaled dot-product attention scores\n",
        "        attn_scores = torch.matmul(Q, K.transpose(-2, -1)) * self.scaling_factor\n",
        "\n",
        "        if mask is not None:\n",
        "            attn_scores = attn_scores.masked_fill(mask == 1, float('-inf'))\n",
        "\n",
        "        # Compute attention weights\n",
        "        attn_weights = self.softmax(attn_scores)\n",
        "\n",
        "        # Compute weighted sum of values\n",
        "        output = torch.matmul(attn_weights, V)\n",
        "\n",
        "        return output, attn_weights"
      ]
    },
    {
      "cell_type": "markdown",
      "source": [
        "## MultiHeadAttentionクラス\n",
        "Section2で構築した「Multi-Head Attention」のクラスです。"
      ],
      "metadata": {
        "id": "ET9qaXSS2m0F"
      }
    },
    {
      "cell_type": "code",
      "source": [
        "class MultiHeadAttention(nn.Module):\n",
        "    def __init__(self, d_model, n_head, d_k, d_v):\n",
        "        super(MultiHeadAttention, self).__init__()\n",
        "        self.n_head = n_head\n",
        "        self.d_k = d_k\n",
        "        self.d_v = d_v\n",
        "\n",
        "        self.W_Q = nn.Linear(d_model, d_k * n_head, bias=False)\n",
        "        self.W_K = nn.Linear(d_model, d_k * n_head, bias=False)\n",
        "        self.W_V = nn.Linear(d_model, d_v * n_head, bias=False)\n",
        "        self.W_O = nn.Linear(d_v * n_head, d_model, bias=False)\n",
        "\n",
        "        self.attention = ScaledDotProductAttention(d_k)\n",
        "\n",
        "    def forward(self, Q, K, V, mask=None):\n",
        "        batch_size = Q.size(0)\n",
        "\n",
        "        # Linear projections\n",
        "        Q = self.W_Q(Q).view(batch_size, -1, self.n_head, self.d_k).transpose(1, 2)\n",
        "        K = self.W_K(K).view(batch_size, -1, self.n_head, self.d_k).transpose(1, 2)\n",
        "        V = self.W_V(V).view(batch_size, -1, self.n_head, self.d_v).transpose(1, 2)\n",
        "\n",
        "        if mask is not None:\n",
        "            mask = mask.unsqueeze(1)  # [batch_size, 1, seq_len, seq_len]\n",
        "\n",
        "        # Apply Scaled Dot Product Attention\n",
        "        x, attn = self.attention(Q, K, V, mask=mask)  # [batch_size, n_head, seq_len, d_v]\n",
        "\n",
        "        # Concatenate and apply final linear\n",
        "        x = x.transpose(1, 2).contiguous().view(batch_size, -1, self.n_head * self.d_v)  # [batch_size, seq_len, n_head * d_v]\n",
        "        output = self.W_O(x)  # [batch_size, seq_len, d_model]\n",
        "\n",
        "        return output, attn"
      ],
      "metadata": {
        "id": "QgzkyHNX41X_"
      },
      "execution_count": null,
      "outputs": []
    },
    {
      "cell_type": "markdown",
      "source": [
        "## PositionwiseFeedForwardクラス\n",
        "Section3で構築した「Position-wise Feed-Forward Networks」のクラスです。\n"
      ],
      "metadata": {
        "id": "P8AnHqVJgCE2"
      }
    },
    {
      "cell_type": "code",
      "execution_count": null,
      "metadata": {
        "id": "_6JcaTaygCE3"
      },
      "outputs": [],
      "source": [
        "class PositionwiseFeedForward(nn.Module):\n",
        "    def __init__(self, d_model, d_ff, dropout=0.1):\n",
        "        \"\"\"\n",
        "        Args:\n",
        "            d_model (int): The dimension of the model (also the input and output dimension).\n",
        "            d_ff (int): The dimension of the feed-forward hidden layer.\n",
        "            dropout (float): Dropout probability.\n",
        "        \"\"\"\n",
        "        super(PositionwiseFeedForward, self).__init__()\n",
        "        self.w_1 = nn.Linear(d_model, d_ff)\n",
        "        self.w_2 = nn.Linear(d_ff, d_model)\n",
        "        self.dropout = nn.Dropout(dropout)\n",
        "        self.relu = nn.ReLU()\n",
        "\n",
        "    def forward(self, x):\n",
        "        \"\"\"\n",
        "        Args:\n",
        "            x (Tensor): Input tensor, shape [batch_size, seq_len, d_model]\n",
        "\n",
        "        Returns:\n",
        "            Tensor: Output tensor, shape [batch_size, seq_len, d_model]\n",
        "        \"\"\"\n",
        "        return self.w_2(self.dropout(self.relu(self.w_1(x))))"
      ]
    },
    {
      "cell_type": "markdown",
      "source": [
        "## EncoderLayerクラス\n",
        "論文「Attention Is All You Need」に基づき、Encoderで繰り返す1回分の処理をEncoderLayerクラスにまとめます。  \n",
        "https://arxiv.org/abs/1706.03762"
      ],
      "metadata": {
        "id": "hs-EOPaKnf9A"
      }
    },
    {
      "cell_type": "code",
      "execution_count": null,
      "metadata": {
        "id": "W2vttcSpLchW"
      },
      "outputs": [],
      "source": [
        "class EncoderLayer(nn.Module):\n",
        "    def __init__(self, d_model, n_head, d_k, d_v, d_ff, dropout=0.1):\n",
        "        super(EncoderLayer, self).__init__()\n",
        "        self.self_attn = MultiHeadAttention(d_model, n_head, d_k, d_v)\n",
        "        self.feed_forward = PositionwiseFeedForward(d_model, d_ff, dropout)\n",
        "        self.layer_norm1 = nn.LayerNorm(d_model)\n",
        "        self.layer_norm2 = nn.LayerNorm(d_model)\n",
        "        self.dropout = nn.Dropout(dropout)\n",
        "\n",
        "    def forward(self, x, mask):\n",
        "        # Self-attention sublayer\n",
        "        attn_output, _ = self.self_attn(x, x, x, mask)\n",
        "        x = x + self.dropout(attn_output)\n",
        "        x = self.layer_norm1(x)\n",
        "\n",
        "        # Feed-forward sublayer\n",
        "        ff_output = self.feed_forward(x)\n",
        "        x = x + self.dropout(ff_output)\n",
        "        x = self.layer_norm2(x)\n",
        "\n",
        "        return x"
      ]
    },
    {
      "cell_type": "markdown",
      "source": [
        "## Encoderクラス\n",
        "論文「Attention Is All You Need」に基づき、EncoderをEncoderクラスにまとめます。  \n",
        "ここでは、EncoderLayerクラスの処理を繰り返し行います。  \n",
        "https://arxiv.org/abs/1706.03762"
      ],
      "metadata": {
        "id": "i8IP7alygB5P"
      }
    },
    {
      "cell_type": "code",
      "execution_count": null,
      "metadata": {
        "id": "93FBOx15gB5R"
      },
      "outputs": [],
      "source": [
        "class Encoder(nn.Module):\n",
        "    def __init__(self, d_model, n_head, d_k, d_v, d_ff, num_layers, dropout=0.1):\n",
        "        super(Encoder, self).__init__()\n",
        "        self.layers = nn.ModuleList([EncoderLayer(d_model, n_head, d_k, d_v, d_ff, dropout) for _ in range(num_layers)])\n",
        "        self.layer_norm = nn.LayerNorm(d_model)\n",
        "\n",
        "    def forward(self, x, mask):\n",
        "        for layer in self.layers:\n",
        "            x = layer(x, mask)\n",
        "        x = self.layer_norm(x)\n",
        "        return x"
      ]
    },
    {
      "cell_type": "markdown",
      "source": [
        "## Encoderクラスの使用\n",
        "各設定を行った上で、Encoderクラスを使用します。  \n"
      ],
      "metadata": {
        "id": "XeGiQCcIoZ6V"
      }
    },
    {
      "cell_type": "code",
      "source": [
        "# パラメータ設定\n",
        "d_model = 512  # 埋め込みの次元数\n",
        "n_head = 8     # アテンションヘッドの数\n",
        "d_k = d_v = 64 # キーと値の次元数\n",
        "d_ff = 2048    # フィードフォワードネットワークの内部次元数\n",
        "num_layers = 6 # エンコーダの層の数\n",
        "batch_size = 32  # バッチサイズ\n",
        "seq_len = 100  # 入力シーケンスの長さ\n",
        "dropout = 0.1  # ドロップアウト率\n",
        "\n",
        "# エンコーダのインスタンス化\n",
        "encoder = Encoder(d_model, n_head, d_k, d_v, d_ff, num_layers, dropout)\n",
        "\n",
        "# モデルを評価モードに設定（ドロップアウトなどが無効になる）\n",
        "encoder.eval()\n",
        "\n",
        "# ダミーの入力データとマスクの生成\n",
        "input_tensor = torch.rand(batch_size, seq_len, d_model)  # ダミーの入力テンソル\n",
        "mask = torch.zeros(batch_size, seq_len, seq_len)  # マスク（ここでは全てマスクなし）\n",
        "\n",
        "# エンコーダに入力データを通す\n",
        "with torch.no_grad():  # 勾配計算を行わない\n",
        "    encoded_output = encoder(input_tensor, mask)\n",
        "\n",
        "print(\"Encoded output shape:\", encoded_output.shape)  # 出力テンソルの形状を表示: [batch_size, seq_len, d_model]\n",
        "print(\"Encoded output:\", encoded_output)"
      ],
      "metadata": {
        "id": "GfuYZ67Tk8xE"
      },
      "execution_count": null,
      "outputs": []
    }
  ]
}