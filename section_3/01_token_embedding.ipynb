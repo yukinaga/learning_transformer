{
  "nbformat": 4,
  "nbformat_minor": 0,
  "metadata": {
    "colab": {
      "provenance": [],
      "authorship_tag": "ABX9TyNOew/3Vx13277jGyH53kRq",
      "include_colab_link": true
    },
    "kernelspec": {
      "name": "python3",
      "display_name": "Python 3"
    },
    "language_info": {
      "name": "python"
    }
  },
  "cells": [
    {
      "cell_type": "markdown",
      "metadata": {
        "id": "view-in-github",
        "colab_type": "text"
      },
      "source": [
        "<a href=\"https://colab.research.google.com/github/yukinaga/learning_transformer/blob/main/section_3/01_token_embedding.ipynb\" target=\"_parent\"><img src=\"https://colab.research.google.com/assets/colab-badge.svg\" alt=\"Open In Colab\"/></a>"
      ]
    },
    {
      "cell_type": "markdown",
      "source": [
        "# Token Embedding\n",
        "PyTorchを使い、単語をベクトル化する「Token Embedding」を実装します。"
      ],
      "metadata": {
        "id": "D1ewu_ttnVop"
      }
    },
    {
      "cell_type": "markdown",
      "source": [
        "## Token Embeddingの実装\n",
        "Token Embeddingは、PyTorchの`nn.Embedding()`を使いを実装することができます。  \n",
        "`nn.Embedding()`は通常、単語の埋め込み（単語ベクトル）を学習するために自然言語処理タスクで使用されます。\n"
      ],
      "metadata": {
        "id": "hs-EOPaKnf9A"
      }
    },
    {
      "cell_type": "code",
      "execution_count": null,
      "metadata": {
        "id": "W2vttcSpLchW"
      },
      "outputs": [],
      "source": [
        "import torch\n",
        "import torch.nn as nn\n",
        "\n",
        "# ハイパーパラメータの設定\n",
        "vocab_size = 10  # 語彙サイズ\n",
        "embed_dim = 50   # 埋め込みベクトルの次元数\n",
        "\n",
        "# nn.Embeddingのインスタンスを作成\n",
        "embedding_layer = nn.Embedding(num_embeddings=vocab_size, embedding_dim=embed_dim)\n",
        "\n",
        "# 入力データ（単語IDのテンソル）\n",
        "input_data = torch.tensor([0, 1, 2, 3, 4], dtype=torch.long)  # 単語IDの例\n",
        "\n",
        "# 埋め込み層を通じて入力データを変換\n",
        "embedded_data = embedding_layer(input_data)\n",
        "\n",
        "# 埋め込まれたデータの表示\n",
        "print(embedded_data)"
      ]
    },
    {
      "cell_type": "markdown",
      "source": [
        "埋め込みベクトルのテンソルの形状は[5, 50]となり、5つの単語それぞれに対して50次元の埋め込みベクトルが得られています。  \n",
        "  \n",
        "訓練中にこれらの埋め込みベクトルはバックプロパゲーションを使って更新されます。  \n",
        "これにより、タスクの性能が次第に向上します。  "
      ],
      "metadata": {
        "id": "lupKR1TavQJK"
      }
    }
  ]
}