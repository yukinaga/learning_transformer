{
  "nbformat": 4,
  "nbformat_minor": 0,
  "metadata": {
    "colab": {
      "provenance": [],
      "authorship_tag": "ABX9TyM3KIdBIdP0eOLK5oE8lqhh",
      "include_colab_link": true
    },
    "kernelspec": {
      "name": "python3",
      "display_name": "Python 3"
    },
    "language_info": {
      "name": "python"
    }
  },
  "cells": [
    {
      "cell_type": "markdown",
      "metadata": {
        "id": "view-in-github",
        "colab_type": "text"
      },
      "source": [
        "<a href=\"https://colab.research.google.com/github/yukinaga/learning_transformer/blob/main/section_3/03_positionwise_feed_forward.ipynb\" target=\"_parent\"><img src=\"https://colab.research.google.com/assets/colab-badge.svg\" alt=\"Open In Colab\"/></a>"
      ]
    },
    {
      "cell_type": "markdown",
      "source": [
        "# Position-wise Feed-Forward Networks\n",
        "PyTorchを使い、「Position-wise Feed-Forward Networks」を実装します。"
      ],
      "metadata": {
        "id": "D1ewu_ttnVop"
      }
    },
    {
      "cell_type": "markdown",
      "source": [
        "## PositionwiseFeedForwardクラス\n",
        "論文「Attention Is All You Need」に基づき、Position-wise Feed-Forward Networksをクラスとして実装します。  \n",
        "https://arxiv.org/abs/1706.03762\n"
      ],
      "metadata": {
        "id": "hs-EOPaKnf9A"
      }
    },
    {
      "cell_type": "code",
      "execution_count": null,
      "metadata": {
        "id": "W2vttcSpLchW"
      },
      "outputs": [],
      "source": [
        "import torch\n",
        "import torch.nn as nn\n",
        "\n",
        "class PositionwiseFeedForward(nn.Module):\n",
        "    def __init__(self, d_model, d_ff, dropout=0.1):\n",
        "        \"\"\"\n",
        "        Args:\n",
        "            d_model (int): The dimension of the model (also the input and output dimension).\n",
        "            d_ff (int): The dimension of the feed-forward hidden layer.\n",
        "            dropout (float): Dropout probability.\n",
        "        \"\"\"\n",
        "        super(PositionwiseFeedForward, self).__init__()\n",
        "        self.w_1 = nn.Linear(d_model, d_ff)\n",
        "        self.w_2 = nn.Linear(d_ff, d_model)\n",
        "        self.dropout = nn.Dropout(dropout)\n",
        "        self.relu = nn.ReLU()\n",
        "\n",
        "    def forward(self, x):\n",
        "        \"\"\"\n",
        "        Args:\n",
        "            x (Tensor): Input tensor, shape [batch_size, seq_len, d_model]\n",
        "\n",
        "        Returns:\n",
        "            Tensor: Output tensor, shape [batch_size, seq_len, d_model]\n",
        "        \"\"\"\n",
        "        return self.w_2(self.dropout(self.relu(self.w_1(x))))"
      ]
    },
    {
      "cell_type": "markdown",
      "source": [
        "## PositionwiseFeedForwardクラスの使用\n",
        "各設定を行い、PositionwiseFeedForwardクラスを使用します。"
      ],
      "metadata": {
        "id": "XeGiQCcIoZ6V"
      }
    },
    {
      "cell_type": "code",
      "source": [
        "import torch\n",
        "\n",
        "# ハイパーパラメータの設定\n",
        "batch_size = 8\n",
        "seq_len = 50\n",
        "d_model = 512  # モデルの次元数\n",
        "d_ff = 2048  # フィードフォワード隠れ層の次元数\n",
        "\n",
        "# PositionwiseFeedForwardモジュールのインスタンス化\n",
        "positionwise_ff = PositionwiseFeedForward(d_model, d_ff)\n",
        "\n",
        "# ランダムなテンソルを生成\n",
        "x = torch.randn(batch_size, seq_len, d_model)\n",
        "\n",
        "# forwardメソッドを呼び出し\n",
        "output = positionwise_ff(x)\n",
        "\n",
        "# 出力の表示\n",
        "print(output.size())  # 出力テンソルのサイズを表示: [batch_size, seq_len, d_model]"
      ],
      "metadata": {
        "id": "GfuYZ67Tk8xE"
      },
      "execution_count": null,
      "outputs": []
    },
    {
      "cell_type": "markdown",
      "source": [
        "出力が計算されたことが確認できます。"
      ],
      "metadata": {
        "id": "vGvGibS8y74T"
      }
    }
  ]
}