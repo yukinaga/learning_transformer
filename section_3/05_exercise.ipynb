{
  "nbformat": 4,
  "nbformat_minor": 0,
  "metadata": {
    "colab": {
      "provenance": [],
      "authorship_tag": "ABX9TyPWlziKnuOAOoEi4mnO/sYu",
      "include_colab_link": true
    },
    "kernelspec": {
      "name": "python3",
      "display_name": "Python 3"
    },
    "language_info": {
      "name": "python"
    }
  },
  "cells": [
    {
      "cell_type": "markdown",
      "metadata": {
        "id": "view-in-github",
        "colab_type": "text"
      },
      "source": [
        "<a href=\"https://colab.research.google.com/github/yukinaga/learning_transformer/blob/main/section_3/05_exercise.ipynb\" target=\"_parent\"><img src=\"https://colab.research.google.com/assets/colab-badge.svg\" alt=\"Open In Colab\"/></a>"
      ]
    },
    {
      "cell_type": "markdown",
      "source": [
        "# 演習\n",
        "「Positional Encoding」のコードを一部記述しましょう。"
      ],
      "metadata": {
        "id": "D1ewu_ttnVop"
      }
    },
    {
      "cell_type": "markdown",
      "source": [
        "## PositionalEncodingクラス\n",
        "以下のコードに追記を行い、Positional Encodingのクラスを完成させましょう。\n"
      ],
      "metadata": {
        "id": "hs-EOPaKnf9A"
      }
    },
    {
      "cell_type": "code",
      "execution_count": null,
      "metadata": {
        "id": "W2vttcSpLchW"
      },
      "outputs": [],
      "source": [
        "import torch\n",
        "import torch.nn as nn\n",
        "\n",
        "class PositionalEncoding(nn.Module):\n",
        "    def __init__(self, d_model, max_len=5000):\n",
        "        super(PositionalEncoding, self).__init__()\n",
        "        self.encoding = torch.zeros(max_len, d_model)\n",
        "        position = torch.arange(0, max_len, dtype=torch.float).unsqueeze(1)\n",
        "        div_term = torch.exp(torch.arange(0, d_model, 2).float() * -(torch.log(torch.tensor(10000.0)) / d_model))\n",
        "        self.encoding[:, 0::2] =   # ←ここにコードを追記\n",
        "        self.encoding[:, 1::2] =   # ←ここにコードを追記\n",
        "        self.encoding = self.encoding.unsqueeze(0)\n",
        "\n",
        "    def forward(self, x):\n",
        "        \"\"\"\n",
        "        Args:\n",
        "            x (Tensor): Input tensor, shape [batch_size, seq_len, d_model]\n",
        "\n",
        "        Returns:\n",
        "            Tensor: Output tensor, shape [batch_size, seq_len, d_model]\n",
        "        \"\"\"\n",
        "        # Add positional encoding to the input tensor\n",
        "        x = x + self.encoding[:, :x.size(1), :]\n",
        "        return x"
      ]
    },
    {
      "cell_type": "markdown",
      "source": [
        "## PositionalEncodingクラスの使用\n",
        "完成させたPositionalEncodingクラスを使ってみましょう。"
      ],
      "metadata": {
        "id": "XeGiQCcIoZ6V"
      }
    },
    {
      "cell_type": "code",
      "source": [
        "import torch\n",
        "\n",
        "# ハイパーパラメータの設定\n",
        "batch_size = 8\n",
        "seq_len = 50\n",
        "d_model = 512  # モデルの次元数\n",
        "\n",
        "# PositionalEncodingモジュールのインスタンス化\n",
        "positional_encoding = PositionalEncoding(d_model)\n",
        "\n",
        "# ランダムなテンソルを生成\n",
        "x = torch.randn(batch_size, seq_len, d_model)\n",
        "\n",
        "# forwardメソッドを呼び出し\n",
        "encoded_x = positional_encoding(x)\n",
        "\n",
        "# エンコードされたデータの表示\n",
        "print(encoded_x.size())  # エンコードされたテンソルのサイズを表示: [batch_size, seq_len, d_model]"
      ],
      "metadata": {
        "id": "GfuYZ67Tk8xE"
      },
      "execution_count": null,
      "outputs": []
    },
    {
      "cell_type": "markdown",
      "source": [
        "## 解答例\n",
        "以下は解答例です。"
      ],
      "metadata": {
        "id": "vGvGibS8y74T"
      }
    },
    {
      "cell_type": "code",
      "source": [
        "import torch\n",
        "import torch.nn as nn\n",
        "\n",
        "class PositionalEncoding(nn.Module):\n",
        "    def __init__(self, d_model, max_len=5000):\n",
        "        super(PositionalEncoding, self).__init__()\n",
        "        self.encoding = torch.zeros(max_len, d_model)\n",
        "        position = torch.arange(0, max_len, dtype=torch.float).unsqueeze(1)\n",
        "        div_term = torch.exp(torch.arange(0, d_model, 2).float() * -(torch.log(torch.tensor(10000.0)) / d_model))\n",
        "        self.encoding[:, 0::2] = torch.sin(position * div_term)  # ←ここにコードを追記\n",
        "        self.encoding[:, 1::2] = torch.cos(position * div_term)  # ←ここにコードを追記\n",
        "        self.encoding = self.encoding.unsqueeze(0)\n",
        "\n",
        "    def forward(self, x):\n",
        "        \"\"\"\n",
        "        Args:\n",
        "            x (Tensor): Input tensor, shape [batch_size, seq_len, d_model]\n",
        "\n",
        "        Returns:\n",
        "            Tensor: Output tensor, shape [batch_size, seq_len, d_model]\n",
        "        \"\"\"\n",
        "        # Add positional encoding to the input tensor\n",
        "        x = x + self.encoding[:, :x.size(1), :]\n",
        "        return x"
      ],
      "metadata": {
        "id": "n5GMfaEcK9sj"
      },
      "execution_count": null,
      "outputs": []
    }
  ]
}