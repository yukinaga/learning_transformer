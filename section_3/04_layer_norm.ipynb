{
  "nbformat": 4,
  "nbformat_minor": 0,
  "metadata": {
    "colab": {
      "provenance": [],
      "authorship_tag": "ABX9TyNsMOiMi4aOBzVrFJxIviU/",
      "include_colab_link": true
    },
    "kernelspec": {
      "name": "python3",
      "display_name": "Python 3"
    },
    "language_info": {
      "name": "python"
    }
  },
  "cells": [
    {
      "cell_type": "markdown",
      "metadata": {
        "id": "view-in-github",
        "colab_type": "text"
      },
      "source": [
        "<a href=\"https://colab.research.google.com/github/yukinaga/learning_transformer/blob/main/section_3/04_layer_norm.ipynb\" target=\"_parent\"><img src=\"https://colab.research.google.com/assets/colab-badge.svg\" alt=\"Open In Colab\"/></a>"
      ]
    },
    {
      "cell_type": "markdown",
      "source": [
        "# Layer Normalization\n",
        "PyTorchを使い、「Layer Normalization」を実装します。"
      ],
      "metadata": {
        "id": "D1ewu_ttnVop"
      }
    },
    {
      "cell_type": "markdown",
      "source": [
        "## Layer Normalizationの実装\n",
        "Layer Normalizationは、PyTorchの`torch.nn.LayerNorm()`を使いを実装することができます。  \n"
      ],
      "metadata": {
        "id": "hs-EOPaKnf9A"
      }
    },
    {
      "cell_type": "code",
      "execution_count": null,
      "metadata": {
        "id": "W2vttcSpLchW"
      },
      "outputs": [],
      "source": [
        "import torch\n",
        "import torch.nn as nn\n",
        "\n",
        "# ハイパーパラメータの設定\n",
        "d_model = 512  # モデルの次元数\n",
        "eps = 1e-6  # イプシロン（数値安定性のため）\n",
        "\n",
        "# LayerNormのインスタンス化\n",
        "layer_norm = nn.LayerNorm(normalized_shape=d_model, eps=eps)\n",
        "\n",
        "# ランダムなテンソルを生成\n",
        "batch_size = 8\n",
        "seq_len = 50\n",
        "x = torch.randn(batch_size, seq_len, d_model)\n",
        "\n",
        "# LayerNormを適用\n",
        "normalized_x = layer_norm(x)\n",
        "\n",
        "# 結果の表示\n",
        "print(normalized_x.size())  # 出力テンソルのサイズを表示: [batch_size, seq_len, d_model]"
      ]
    }
  ]
}