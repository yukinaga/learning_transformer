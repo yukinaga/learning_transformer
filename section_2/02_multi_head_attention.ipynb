{
  "nbformat": 4,
  "nbformat_minor": 0,
  "metadata": {
    "colab": {
      "provenance": [],
      "authorship_tag": "ABX9TyOmHewXnCCbQCBrbGNePWRa",
      "include_colab_link": true
    },
    "kernelspec": {
      "name": "python3",
      "display_name": "Python 3"
    },
    "language_info": {
      "name": "python"
    }
  },
  "cells": [
    {
      "cell_type": "markdown",
      "metadata": {
        "id": "view-in-github",
        "colab_type": "text"
      },
      "source": [
        "<a href=\"https://colab.research.google.com/github/yukinaga/learning_transformer/blob/main/section_2/02_multi_head_attention.ipynb\" target=\"_parent\"><img src=\"https://colab.research.google.com/assets/colab-badge.svg\" alt=\"Open In Colab\"/></a>"
      ]
    },
    {
      "cell_type": "markdown",
      "source": [
        "# Multi-HeadAttention\n",
        "PyTorchを使い、「Multi-HeadAttention」を実装します。"
      ],
      "metadata": {
        "id": "D1ewu_ttnVop"
      }
    },
    {
      "cell_type": "markdown",
      "source": [
        "## ScaledDotProductAttentionクラス\n",
        "論文「Attention Is All You Need」に基づき、Scaled Dot-Product Attentionをクラスとして実装します。  \n",
        "https://arxiv.org/abs/1706.03762\n"
      ],
      "metadata": {
        "id": "hs-EOPaKnf9A"
      }
    },
    {
      "cell_type": "code",
      "execution_count": null,
      "metadata": {
        "id": "W2vttcSpLchW"
      },
      "outputs": [],
      "source": [
        "import torch\n",
        "import torch.nn as nn\n",
        "\n",
        "class ScaledDotProductAttention(nn.Module):\n",
        "    def __init__(self, d_k):\n",
        "        super(ScaledDotProductAttention, self).__init__()\n",
        "        self.scaling_factor = torch.rsqrt(torch.tensor(d_k, dtype=torch.float))\n",
        "        self.softmax = nn.Softmax(dim=-1)\n",
        "\n",
        "    def forward(self, Q, K, V, mask=None):\n",
        "        \"\"\"\n",
        "        Args:\n",
        "            Q (Tensor): Queries tensor, shape [batch_size, n_head, seq_len, d_k].\n",
        "            K (Tensor): Keys tensor, shape [batch_size, n_head, seq_len, d_k].\n",
        "            V (Tensor): Values tensor, shape [batch_size, n_head, seq_len, d_v].\n",
        "            mask (Tensor, optional): Mask tensor, shape [batch_size, 1, 1, seq_len].\n",
        "\n",
        "        Returns:\n",
        "            Tensor: Output tensor, shape [batch_size, n_head, seq_len, d_v].\n",
        "            Tensor: Attention weights tensor, shape [batch_size, n_head, seq_len, seq_len].\n",
        "        \"\"\"\n",
        "        # Compute scaled dot-product attention scores\n",
        "        attn_scores = torch.matmul(Q, K.transpose(-2, -1)) * self.scaling_factor\n",
        "        if mask is not None:\n",
        "            attn_scores = attn_scores.masked_fill(mask == 0, float('-inf'))\n",
        "\n",
        "        # Compute attention weights\n",
        "        attn_weights = self.softmax(attn_scores)\n",
        "\n",
        "        # Compute weighted sum of values\n",
        "        output = torch.matmul(attn_weights, V)\n",
        "\n",
        "        return output, attn_weights"
      ]
    },
    {
      "cell_type": "markdown",
      "source": [
        "## MultiHeadAttentionクラス\n",
        "論文「Attention Is All You Need」に基づき、Multi-HeadAttentionをクラスとして実装します。  \n",
        "先ほどのScaledDotProductAttentionクラスを使用します。  \n",
        "https://arxiv.org/abs/1706.03762\n"
      ],
      "metadata": {
        "id": "ET9qaXSS2m0F"
      }
    },
    {
      "cell_type": "code",
      "source": [
        "class MultiHeadAttention(nn.Module):\n",
        "    def __init__(self, d_model, n_head, d_k, d_v):\n",
        "        super(MultiHeadAttention, self).__init__()\n",
        "        self.n_head = n_head\n",
        "        self.d_k = d_k\n",
        "        self.d_v = d_v\n",
        "\n",
        "        self.W_Q = nn.Linear(d_model, d_k * n_head, bias=False)\n",
        "        self.W_K = nn.Linear(d_model, d_k * n_head, bias=False)\n",
        "        self.W_V = nn.Linear(d_model, d_v * n_head, bias=False)\n",
        "        self.W_O = nn.Linear(d_v * n_head, d_model, bias=False)\n",
        "\n",
        "        self.attention = ScaledDotProductAttention(d_k)\n",
        "\n",
        "    def forward(self, Q, K, V, mask=None):\n",
        "        batch_size = Q.size(0)\n",
        "\n",
        "        # Linear projections\n",
        "        Q = self.W_Q(Q).view(batch_size, -1, self.n_head, self.d_k).transpose(1, 2)\n",
        "        K = self.W_K(K).view(batch_size, -1, self.n_head, self.d_k).transpose(1, 2)\n",
        "        V = self.W_V(V).view(batch_size, -1, self.n_head, self.d_v).transpose(1, 2)\n",
        "\n",
        "        if mask is not None:\n",
        "            mask = mask.unsqueeze(1)  # [batch_size, 1, 1, seq_len]\n",
        "\n",
        "        # Apply Scaled Dot Product Attention\n",
        "        x, attn = self.attention(Q, K, V, mask=mask)  # [batch_size, n_head, seq_len, d_v]\n",
        "\n",
        "        # Concatenate and apply final linear\n",
        "        x = x.transpose(1, 2).contiguous().view(batch_size, -1, self.n_head * self.d_v)  # [batch_size, seq_len, n_head * d_v]\n",
        "        output = self.W_O(x)  # [batch_size, seq_len, d_model]\n",
        "\n",
        "        return output, attn"
      ],
      "metadata": {
        "id": "QgzkyHNX41X_"
      },
      "execution_count": null,
      "outputs": []
    },
    {
      "cell_type": "markdown",
      "source": [
        "## MultiHeadAttentionクラスの使用\n",
        "各設定を行い、MultiHeadAttentionクラスを使用します。"
      ],
      "metadata": {
        "id": "XeGiQCcIoZ6V"
      }
    },
    {
      "cell_type": "code",
      "source": [
        "import torch\n",
        "\n",
        "# ハイパーパラメータ\n",
        "batch_size = 8\n",
        "seq_len = 10\n",
        "d_model = 512  # 入力特徴の次元数\n",
        "n_head = 8  # Attention headの数\n",
        "d_k = 64  # キー/クエリベクトルの次元数\n",
        "d_v = 64  # 値ベクトルの次元数\n",
        "\n",
        "# MultiHeadAttentionモジュールのインスタンス化\n",
        "multi_head_attention = MultiHeadAttention(d_model, n_head, d_k, d_v)\n",
        "\n",
        "# ランダムなテンソルを生成\n",
        "Q = torch.randn(batch_size, seq_len, d_model)\n",
        "K = torch.randn(batch_size, seq_len, d_model)\n",
        "V = torch.randn(batch_size, seq_len, d_model)\n",
        "\n",
        "# オプショナル: マスクの作成\n",
        "# このマスクは、最初の5つの位置だけをアンマスクし、残りの位置をマスクします。\n",
        "mask = torch.ones(batch_size, 1, seq_len)\n",
        "mask[:, :, :5] = 0\n",
        "\n",
        "# forwardメソッドを呼び出し\n",
        "output, attn_weights = multi_head_attention(Q, K, V, mask)\n",
        "\n",
        "# 出力とAttention weightを表示\n",
        "print(output.size())  # 出力テンソルのサイズを表示: [batch_size, seq_len, d_model]\n",
        "print(attn_weights.size())  # Attention weightテンソルのサイズを表示: [batch_size, n_head, seq_len, seq_len]"
      ],
      "metadata": {
        "id": "GfuYZ67Tk8xE"
      },
      "execution_count": null,
      "outputs": []
    },
    {
      "cell_type": "markdown",
      "source": [
        "出力とAttention weightが計算されたことが確認できます。"
      ],
      "metadata": {
        "id": "vGvGibS8y74T"
      }
    }
  ]
}