{
  "nbformat": 4,
  "nbformat_minor": 0,
  "metadata": {
    "colab": {
      "provenance": [],
      "authorship_tag": "ABX9TyOFxCyksozkKKHZG6WD4nIg",
      "include_colab_link": true
    },
    "kernelspec": {
      "name": "python3",
      "display_name": "Python 3"
    },
    "language_info": {
      "name": "python"
    }
  },
  "cells": [
    {
      "cell_type": "markdown",
      "metadata": {
        "id": "view-in-github",
        "colab_type": "text"
      },
      "source": [
        "<a href=\"https://colab.research.google.com/github/yukinaga/learning_transformer/blob/main/section_2/03_exercise.ipynb\" target=\"_parent\"><img src=\"https://colab.research.google.com/assets/colab-badge.svg\" alt=\"Open In Colab\"/></a>"
      ]
    },
    {
      "cell_type": "markdown",
      "source": [
        "# 演習\n",
        "「Scaled Dot-Product Attention」のコードを一部記述しましょう。"
      ],
      "metadata": {
        "id": "D1ewu_ttnVop"
      }
    },
    {
      "cell_type": "markdown",
      "source": [
        "## ScaledDotProductAttentionクラス\n",
        "以下のコードに追記を行い、Scaled Dot-Product Attentionのクラスを完成させましょう。\n"
      ],
      "metadata": {
        "id": "hs-EOPaKnf9A"
      }
    },
    {
      "cell_type": "code",
      "execution_count": null,
      "metadata": {
        "id": "W2vttcSpLchW"
      },
      "outputs": [],
      "source": [
        "import torch\n",
        "import torch.nn as nn\n",
        "\n",
        "class ScaledDotProductAttention(nn.Module):\n",
        "    def __init__(self, d_k):\n",
        "        super(ScaledDotProductAttention, self).__init__()\n",
        "        self.scaling_factor = torch.rsqrt(torch.tensor(d_k, dtype=torch.float))\n",
        "        self.softmax = nn.Softmax(dim=-1)\n",
        "\n",
        "    def forward(self, Q, K, V, mask=None):\n",
        "        \"\"\"\n",
        "        Args:\n",
        "            Q (Tensor): Queries tensor, shape [batch_size, n_head, seq_len, d_k].\n",
        "            K (Tensor): Keys tensor, shape [batch_size, n_head, seq_len, d_k].\n",
        "            V (Tensor): Values tensor, shape [batch_size, n_head, seq_len, d_v].\n",
        "            mask (Tensor, optional): Mask tensor, shape [batch_size, 1, 1, seq_len].\n",
        "\n",
        "        Returns:\n",
        "            Tensor: Output tensor, shape [batch_size, n_head, seq_len, d_v].\n",
        "            Tensor: Attention weights tensor, shape [batch_size, n_head, seq_len, seq_len].\n",
        "        \"\"\"\n",
        "        # Compute scaled dot-product attention scores\n",
        "        attn_scores = torch.matmul(Q, K.transpose(-2, -1)) * self.scaling_factor\n",
        "        if mask is not None:\n",
        "            attn_scores = attn_scores.masked_fill(mask == 1, float('-inf'))\n",
        "\n",
        "        # Compute attention weights\n",
        "        attn_weights =   # ←ここにコードを追記\n",
        "\n",
        "        # Compute weighted sum of values\n",
        "        output =   # ←ここにコードを追記\n",
        "\n",
        "        return output, attn_weights"
      ]
    },
    {
      "cell_type": "markdown",
      "source": [
        "## ScaledDotProductAttentionクラスの使用\n",
        "完成させたScaledDotProductAttentionクラスを使ってみましょう。"
      ],
      "metadata": {
        "id": "XeGiQCcIoZ6V"
      }
    },
    {
      "cell_type": "code",
      "source": [
        "import torch\n",
        "\n",
        "# ハイパーパラメータ\n",
        "batch_size = 8\n",
        "n_head = 4\n",
        "seq_len = 10\n",
        "d_k = 64\n",
        "d_v = 128\n",
        "\n",
        "# ScaledDotProductAttentionモジュールのインスタンス化\n",
        "scaled_dot_product_attention = ScaledDotProductAttention(d_k)\n",
        "\n",
        "# ランダムなテンソルを生成\n",
        "Q = torch.randn(batch_size, n_head, seq_len, d_k)\n",
        "K = torch.randn(batch_size, n_head, seq_len, d_k)\n",
        "V = torch.randn(batch_size, n_head, seq_len, d_v)\n",
        "\n",
        "# マスクの作成\n",
        "# このマスクは、最初の5つの位置だけをアンマスクし、残りの位置をマスクします。\n",
        "mask = torch.ones(batch_size, 1, 1, seq_len)\n",
        "mask[:, :, :, :5] = 0\n",
        "\n",
        "# forwardメソッドを呼び出し\n",
        "output, attn_weights = scaled_dot_product_attention(Q, K, V, mask)\n",
        "\n",
        "# 出力とAttention weightを表示\n",
        "print(output.size())  # 出力テンソルのサイズを表示: [batch_size, n_head, seq_len, d_v]\n",
        "print(attn_weights.size())  # Attention weightテンソルのサイズを表示: [batch_size, n_head, seq_len, seq_len]"
      ],
      "metadata": {
        "id": "GfuYZ67Tk8xE"
      },
      "execution_count": null,
      "outputs": []
    },
    {
      "cell_type": "markdown",
      "source": [
        "## 解答例\n",
        "以下は解答例です。"
      ],
      "metadata": {
        "id": "vGvGibS8y74T"
      }
    },
    {
      "cell_type": "code",
      "source": [
        "import torch\n",
        "import torch.nn as nn\n",
        "\n",
        "class ScaledDotProductAttention(nn.Module):\n",
        "    def __init__(self, d_k):\n",
        "        super(ScaledDotProductAttention, self).__init__()\n",
        "        self.scaling_factor = torch.rsqrt(torch.tensor(d_k, dtype=torch.float))\n",
        "        self.softmax = nn.Softmax(dim=-1)\n",
        "\n",
        "    def forward(self, Q, K, V, mask=None):\n",
        "        \"\"\"\n",
        "        Args:\n",
        "            Q (Tensor): Queries tensor, shape [batch_size, n_head, seq_len, d_k].\n",
        "            K (Tensor): Keys tensor, shape [batch_size, n_head, seq_len, d_k].\n",
        "            V (Tensor): Values tensor, shape [batch_size, n_head, seq_len, d_v].\n",
        "            mask (Tensor, optional): Mask tensor, shape [batch_size, 1, 1, seq_len].\n",
        "\n",
        "        Returns:\n",
        "            Tensor: Output tensor, shape [batch_size, n_head, seq_len, d_v].\n",
        "            Tensor: Attention weights tensor, shape [batch_size, n_head, seq_len, seq_len].\n",
        "        \"\"\"\n",
        "        # Compute scaled dot-product attention scores\n",
        "        attn_scores = torch.matmul(Q, K.transpose(-2, -1)) * self.scaling_factor\n",
        "        if mask is not None:\n",
        "            attn_scores = attn_scores.masked_fill(mask == 0, float('-inf'))\n",
        "\n",
        "        # Compute attention weights\n",
        "        attn_weights = self.softmax(attn_scores)  # ←ここにコードを追記\n",
        "\n",
        "        # Compute weighted sum of values\n",
        "        output = torch.matmul(attn_weights, V)  # ←ここにコードを追記\n",
        "\n",
        "        return output, attn_weights"
      ],
      "metadata": {
        "id": "n5GMfaEcK9sj"
      },
      "execution_count": null,
      "outputs": []
    }
  ]
}